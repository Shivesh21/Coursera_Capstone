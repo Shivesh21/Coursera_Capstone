{
 "cells": [
  {
   "cell_type": "markdown",
   "metadata": {},
   "source": [
    "## Lets explore the City of Gold!\n",
    "## Johannesburg, South Africa"
   ]
  },
  {
   "cell_type": "markdown",
   "metadata": {},
   "source": [
    "### Introduction"
   ]
  },
  {
   "cell_type": "markdown",
   "metadata": {},
   "source": [
    "Growing up in Johannesburg, South Africa I realized that my city is a very diverse place and always wondered what it would be to analyse the various areas of Johannesburg to determine how various places of interest are spread out across the city. I also wanted to determine what kinds of businesses are prominent amongst the various suburbs of Johannesburg and that is what this project is about"
   ]
  },
  {
   "cell_type": "markdown",
   "metadata": {},
   "source": [
    "### Data"
   ]
  },
  {
   "cell_type": "markdown",
   "metadata": {},
   "source": [
    "Similar to that of the data used for the labs and previous submission. I will be using the FourSquare API to retrieve location data for the city of Johannesburg. Using Folium I will create a map of Johannesburg showcasing the various suburbs of the city. The venue data from each suburb will be extracted and through the use of the K-means clustering algorithm I will perform clustering on the Johannesburg data to group the suburbs together and observe the results. This project will be of interest to those looking at exploring African cities and "
   ]
  }
 ],
 "metadata": {
  "kernelspec": {
   "display_name": "Python 3.7.4 64-bit",
   "language": "python",
   "name": "python37464bit92e67af8b91541f987b92ab815a3ab7d"
  },
  "language_info": {
   "codemirror_mode": {
    "name": "ipython",
    "version": 3
   },
   "file_extension": ".py",
   "mimetype": "text/x-python",
   "name": "python",
   "nbconvert_exporter": "python",
   "pygments_lexer": "ipython3",
   "version": "3.7.4"
  }
 },
 "nbformat": 4,
 "nbformat_minor": 2
}
